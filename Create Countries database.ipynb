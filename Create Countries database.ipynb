{
 "cells": [
  {
   "cell_type": "markdown",
   "metadata": {},
   "source": [
    "# This notebook serves to create a .db file that contains the tables used in the Datacamp course Joining Data in SQL. My environment was problematic using other flavors of SQL (such as MySQL) so I decided to go through Python. This is not the most eligant, or automated process. It serves only as a quick adhoc way to create a database with tables that can be queried using sqlite3 in python. We also make use of Pandas to visualize our queries"
   ]
  },
  {
   "cell_type": "code",
   "execution_count": 1,
   "metadata": {},
   "outputs": [],
   "source": [
    "import re\n",
    "import pandas as pd\n",
    "import sqlite3\n",
    "from sqlite3 import OperationalError"
   ]
  },
  {
   "cell_type": "code",
   "execution_count": 2,
   "metadata": {},
   "outputs": [],
   "source": [
    "#This function will strip our commands in the countries.sql file and keep important ones to make database\n",
    "def createcommand(filename):\n",
    "    # Open and read the file as a single buffer\n",
    "    fd = open(filename, 'r')\n",
    "    sqlFile = fd.read()\n",
    "    fd.close()\n",
    "\n",
    "    # all SQL commands (split on ';')\n",
    "    sqlCommands = sqlFile.split(';')\n",
    "    \n",
    "    test = []\n",
    "    for command in sqlCommands:\n",
    "        test.append(re.sub(' +', ' ',command.replace('\\n',''))+';')\n",
    "        \n",
    "    sqlCommands = test\n",
    "    return sqlCommands"
   ]
  },
  {
   "cell_type": "code",
   "execution_count": 3,
   "metadata": {},
   "outputs": [
    {
     "name": "stdout",
     "output_type": "stream",
     "text": [
      "['CREATE TABLE cities ( name VARCHAR PRIMARY KEY, country_code VARCHAR, city_proper_pop REAL, metroarea_pop REAL, urbanarea_pop REAL);', 'CREATE TABLE countries ( code VARCHAR PRIMARY KEY, name VARCHAR, continent VARCHAR, region VARCHAR, surface_area REAL, indep_year INTEGER, local_name VARCHAR, gov_form VARCHAR, capital VARCHAR, cap_long REAL, cap_lat REAL);', 'CREATE TABLE languages ( lang_id INTEGER PRIMARY KEY, code VARCHAR, name VARCHAR, percent REAL, official BOOLEAN);', 'CREATE TABLE economies ( econ_id INTEGER PRIMARY KEY, code VARCHAR, year INTEGER, income_group VARCHAR, gdp_percapita REAL, gross_savings REAL, inflation_rate REAL, total_investment REAL, unemployment_rate REAL, exports REAL, imports REAL);', 'CREATE TABLE currencies ( curr_id INTEGER PRIMARY KEY, code VARCHAR, basic_unit VARCHAR, curr_code VARCHAR, frac_unit VARCHAR, frac_perbasic REAL);', 'CREATE TABLE populations ( pop_id INTEGER PRIMARY KEY, country_code VARCHAR, year INTEGER, fertility_rate REAL, life_expectancy REAL, size REAL);', 'CREATE TABLE countries_plus ( name VARCHAR, continent VARCHAR, code VARCHAR PRIMARY KEY, surface_area REAL, geosize_group VARCHAR);', 'CREATE TABLE economies2010 ( code VARCHAR PRIMARY KEY, year INTEGER, income_group VARCHAR, gross_savings REAL);', 'CREATE TABLE economies2015 ( code VARCHAR PRIMARY KEY, year INTEGER, income_group VARCHAR, gross_savings REAL);']\n"
     ]
    }
   ],
   "source": [
    "#Check list of commands for table creation, as \\copy throws error in sqlite3 using python\n",
    "test_command = createcommand('countries.sql')\n",
    "print(test_command[:9])"
   ]
  },
  {
   "cell_type": "code",
   "execution_count": 4,
   "metadata": {},
   "outputs": [],
   "source": [
    "#This function will be the driver for calling our commands and creating the tables\n",
    "def builddb(query,db_file):\n",
    "    for item in query:\n",
    "        try:\n",
    "            conn = sqlite3.connect(db_file)\n",
    "            c = conn.cursor()\n",
    "            c.execute(item)\n",
    "        except OperationalError:\n",
    "            print(Error)"
   ]
  },
  {
   "cell_type": "code",
   "execution_count": 5,
   "metadata": {},
   "outputs": [],
   "source": [
    "#Make the database\n",
    "# countries_command = test_command[:9]\n",
    "countries_command = test_command[:9]\n",
    "builddb(countries_command,'countries.db')"
   ]
  },
  {
   "cell_type": "code",
   "execution_count": 6,
   "metadata": {},
   "outputs": [],
   "source": [
    "#Check that we have created tables successfully\n",
    "\n",
    "#This short functions alows us to use pandas to view the tables using sql commands\n",
    "def query_to_df (query):\n",
    "    return pd.read_sql_query(query,db)"
   ]
  },
  {
   "cell_type": "code",
   "execution_count": 7,
   "metadata": {},
   "outputs": [],
   "source": [
    "#Set the database file\n",
    "db = sqlite3.connect('countries.db')"
   ]
  },
  {
   "cell_type": "code",
   "execution_count": 8,
   "metadata": {},
   "outputs": [
    {
     "data": {
      "text/html": [
       "<div>\n",
       "<style scoped>\n",
       "    .dataframe tbody tr th:only-of-type {\n",
       "        vertical-align: middle;\n",
       "    }\n",
       "\n",
       "    .dataframe tbody tr th {\n",
       "        vertical-align: top;\n",
       "    }\n",
       "\n",
       "    .dataframe thead th {\n",
       "        text-align: right;\n",
       "    }\n",
       "</style>\n",
       "<table border=\"1\" class=\"dataframe\">\n",
       "  <thead>\n",
       "    <tr style=\"text-align: right;\">\n",
       "      <th></th>\n",
       "      <th>name</th>\n",
       "    </tr>\n",
       "  </thead>\n",
       "  <tbody>\n",
       "    <tr>\n",
       "      <td>0</td>\n",
       "      <td>cities</td>\n",
       "    </tr>\n",
       "    <tr>\n",
       "      <td>1</td>\n",
       "      <td>countries</td>\n",
       "    </tr>\n",
       "    <tr>\n",
       "      <td>2</td>\n",
       "      <td>languages</td>\n",
       "    </tr>\n",
       "    <tr>\n",
       "      <td>3</td>\n",
       "      <td>economies</td>\n",
       "    </tr>\n",
       "    <tr>\n",
       "      <td>4</td>\n",
       "      <td>currencies</td>\n",
       "    </tr>\n",
       "    <tr>\n",
       "      <td>5</td>\n",
       "      <td>populations</td>\n",
       "    </tr>\n",
       "    <tr>\n",
       "      <td>6</td>\n",
       "      <td>countries_plus</td>\n",
       "    </tr>\n",
       "    <tr>\n",
       "      <td>7</td>\n",
       "      <td>economies2010</td>\n",
       "    </tr>\n",
       "    <tr>\n",
       "      <td>8</td>\n",
       "      <td>economies2015</td>\n",
       "    </tr>\n",
       "  </tbody>\n",
       "</table>\n",
       "</div>"
      ],
      "text/plain": [
       "             name\n",
       "0          cities\n",
       "1       countries\n",
       "2       languages\n",
       "3       economies\n",
       "4      currencies\n",
       "5     populations\n",
       "6  countries_plus\n",
       "7   economies2010\n",
       "8   economies2015"
      ]
     },
     "execution_count": 8,
     "metadata": {},
     "output_type": "execute_result"
    }
   ],
   "source": [
    "#Check that all the desired tables were created\n",
    "query = \"SELECT name FROM sqlite_master WHERE type='table';\"\n",
    "query_to_df(query)"
   ]
  },
  {
   "cell_type": "code",
   "execution_count": 20,
   "metadata": {},
   "outputs": [
    {
     "data": {
      "text/html": [
       "<div>\n",
       "<style scoped>\n",
       "    .dataframe tbody tr th:only-of-type {\n",
       "        vertical-align: middle;\n",
       "    }\n",
       "\n",
       "    .dataframe tbody tr th {\n",
       "        vertical-align: top;\n",
       "    }\n",
       "\n",
       "    .dataframe thead th {\n",
       "        text-align: right;\n",
       "    }\n",
       "</style>\n",
       "<table border=\"1\" class=\"dataframe\">\n",
       "  <thead>\n",
       "    <tr style=\"text-align: right;\">\n",
       "      <th></th>\n",
       "      <th>pop_id</th>\n",
       "      <th>country_code</th>\n",
       "      <th>year</th>\n",
       "      <th>fertility_rate</th>\n",
       "      <th>life_expectancy</th>\n",
       "      <th>size</th>\n",
       "    </tr>\n",
       "  </thead>\n",
       "  <tbody>\n",
       "  </tbody>\n",
       "</table>\n",
       "</div>"
      ],
      "text/plain": [
       "Empty DataFrame\n",
       "Columns: [pop_id, country_code, year, fertility_rate, life_expectancy, size]\n",
       "Index: []"
      ]
     },
     "execution_count": 20,
     "metadata": {},
     "output_type": "execute_result"
    }
   ],
   "source": [
    "#Check specific table column names, it will be important to match these to the csv files used later\n",
    "query = \"SELECT * FROM populations;\"\n",
    "query_to_df(query)"
   ]
  },
  {
   "cell_type": "code",
   "execution_count": 21,
   "metadata": {},
   "outputs": [],
   "source": [
    "#Now we need to populate the tables using our csv files\n",
    "\n",
    "#Create list of csv files to add to tables\n",
    "csv_list = ['cities.csv','countries.csv','languages.csv','economies.csv','economies2010.csv','economies2015.csv','currencies.csv','populations.csv','countries_plus.csv']\n",
    "\n",
    "for entry in csv_list:\n",
    "    #Import csv as dataframe\n",
    "    df = pd.read_csv(entry)\n",
    "    \n",
    "    #here from above we are still connected to db for our pandas tool, so we make use of it\n",
    "    \n",
    "    #set the query to make a dataframe object for the specific table in loop\n",
    "    query = 'SELECT * FROM {}'.format(entry.replace('.csv',''))\n",
    "    #Give it a name\n",
    "    table_df = query_to_df(query)\n",
    "    #Set the name of the df columns so we do not get an error in to_sql call\n",
    "    df.columns = table_df.columns\n",
    "    #Finally import the dataframe into the database\n",
    "    df.to_sql(entry.replace('.csv',''), db, if_exists='append', index=False)"
   ]
  },
  {
   "cell_type": "code",
   "execution_count": 32,
   "metadata": {},
   "outputs": [
    {
     "data": {
      "text/html": [
       "<div>\n",
       "<style scoped>\n",
       "    .dataframe tbody tr th:only-of-type {\n",
       "        vertical-align: middle;\n",
       "    }\n",
       "\n",
       "    .dataframe tbody tr th {\n",
       "        vertical-align: top;\n",
       "    }\n",
       "\n",
       "    .dataframe thead th {\n",
       "        text-align: right;\n",
       "    }\n",
       "</style>\n",
       "<table border=\"1\" class=\"dataframe\">\n",
       "  <thead>\n",
       "    <tr style=\"text-align: right;\">\n",
       "      <th></th>\n",
       "      <th>code</th>\n",
       "      <th>year</th>\n",
       "      <th>income_group</th>\n",
       "      <th>gross_savings</th>\n",
       "    </tr>\n",
       "  </thead>\n",
       "  <tbody>\n",
       "    <tr>\n",
       "      <td>0</td>\n",
       "      <td>AFG</td>\n",
       "      <td>2015</td>\n",
       "      <td>Low income</td>\n",
       "      <td>21.466</td>\n",
       "    </tr>\n",
       "    <tr>\n",
       "      <td>1</td>\n",
       "      <td>AGO</td>\n",
       "      <td>2015</td>\n",
       "      <td>Upper middle income</td>\n",
       "      <td>-0.425</td>\n",
       "    </tr>\n",
       "    <tr>\n",
       "      <td>2</td>\n",
       "      <td>ALB</td>\n",
       "      <td>2015</td>\n",
       "      <td>Upper middle income</td>\n",
       "      <td>13.840</td>\n",
       "    </tr>\n",
       "    <tr>\n",
       "      <td>3</td>\n",
       "      <td>ARE</td>\n",
       "      <td>2015</td>\n",
       "      <td>High income</td>\n",
       "      <td>34.106</td>\n",
       "    </tr>\n",
       "    <tr>\n",
       "      <td>4</td>\n",
       "      <td>ARG</td>\n",
       "      <td>2015</td>\n",
       "      <td>Upper middle income</td>\n",
       "      <td>14.111</td>\n",
       "    </tr>\n",
       "    <tr>\n",
       "      <td>...</td>\n",
       "      <td>...</td>\n",
       "      <td>...</td>\n",
       "      <td>...</td>\n",
       "      <td>...</td>\n",
       "    </tr>\n",
       "    <tr>\n",
       "      <td>185</td>\n",
       "      <td>WSM</td>\n",
       "      <td>2015</td>\n",
       "      <td>Lower middle income</td>\n",
       "      <td>NaN</td>\n",
       "    </tr>\n",
       "    <tr>\n",
       "      <td>186</td>\n",
       "      <td>YEM</td>\n",
       "      <td>2015</td>\n",
       "      <td>Lower middle income</td>\n",
       "      <td>-3.715</td>\n",
       "    </tr>\n",
       "    <tr>\n",
       "      <td>187</td>\n",
       "      <td>ZAF</td>\n",
       "      <td>2015</td>\n",
       "      <td>Upper middle income</td>\n",
       "      <td>16.460</td>\n",
       "    </tr>\n",
       "    <tr>\n",
       "      <td>188</td>\n",
       "      <td>ZMB</td>\n",
       "      <td>2015</td>\n",
       "      <td>Lower middle income</td>\n",
       "      <td>39.177</td>\n",
       "    </tr>\n",
       "    <tr>\n",
       "      <td>189</td>\n",
       "      <td>ZWE</td>\n",
       "      <td>2015</td>\n",
       "      <td>Low income</td>\n",
       "      <td>5.563</td>\n",
       "    </tr>\n",
       "  </tbody>\n",
       "</table>\n",
       "<p>190 rows × 4 columns</p>\n",
       "</div>"
      ],
      "text/plain": [
       "    code  year         income_group  gross_savings\n",
       "0    AFG  2015           Low income         21.466\n",
       "1    AGO  2015  Upper middle income         -0.425\n",
       "2    ALB  2015  Upper middle income         13.840\n",
       "3    ARE  2015          High income         34.106\n",
       "4    ARG  2015  Upper middle income         14.111\n",
       "..   ...   ...                  ...            ...\n",
       "185  WSM  2015  Lower middle income            NaN\n",
       "186  YEM  2015  Lower middle income         -3.715\n",
       "187  ZAF  2015  Upper middle income         16.460\n",
       "188  ZMB  2015  Lower middle income         39.177\n",
       "189  ZWE  2015           Low income          5.563\n",
       "\n",
       "[190 rows x 4 columns]"
      ]
     },
     "execution_count": 32,
     "metadata": {},
     "output_type": "execute_result"
    }
   ],
   "source": [
    "#Check that we have success\n",
    "query = \"SELECT * FROM economies2015;\"\n",
    "query_to_df(query)"
   ]
  },
  {
   "cell_type": "code",
   "execution_count": 23,
   "metadata": {},
   "outputs": [
    {
     "name": "stdout",
     "output_type": "stream",
     "text": [
      "(236, 5)\n",
      "(206, 11)\n",
      "(955, 5)\n",
      "(380, 11)\n",
      "(190, 4)\n",
      "(190, 4)\n",
      "(224, 6)\n",
      "(434, 6)\n",
      "(206, 5)\n"
     ]
    }
   ],
   "source": [
    "for entry in csv_list:\n",
    "    #Import csv as dataframe\n",
    "    df = pd.read_csv(entry)\n",
    "    print(df.shape)"
   ]
  },
  {
   "cell_type": "code",
   "execution_count": 33,
   "metadata": {},
   "outputs": [],
   "source": [
    "#All sizes match so we have a working database"
   ]
  },
  {
   "cell_type": "code",
   "execution_count": null,
   "metadata": {},
   "outputs": [],
   "source": []
  }
 ],
 "metadata": {
  "kernelspec": {
   "display_name": "Python 3",
   "language": "python",
   "name": "python3"
  },
  "language_info": {
   "codemirror_mode": {
    "name": "ipython",
    "version": 3
   },
   "file_extension": ".py",
   "mimetype": "text/x-python",
   "name": "python",
   "nbconvert_exporter": "python",
   "pygments_lexer": "ipython3",
   "version": "3.7.3"
  }
 },
 "nbformat": 4,
 "nbformat_minor": 2
}
